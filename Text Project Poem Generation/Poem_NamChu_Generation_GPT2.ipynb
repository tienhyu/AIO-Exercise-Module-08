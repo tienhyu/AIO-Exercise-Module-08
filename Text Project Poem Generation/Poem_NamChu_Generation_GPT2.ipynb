{
 "cells": [
  {
   "cell_type": "markdown",
   "metadata": {
    "id": "7WCTMqYqQAL5"
   },
   "source": [
    "## **1. Install and import libraries**"
   ]
  },
  {
   "cell_type": "code",
   "execution_count": 1,
   "metadata": {
    "id": "APxGs0R5Inkg"
   },
   "outputs": [],
   "source": [
    "!pip install -qq datasets evaluate transformers[sentencepiece]\n",
    "!pip install -qq accelerate\n",
    "# !apt install git-lfs"
   ]
  },
  {
   "cell_type": "code",
   "execution_count": 2,
   "metadata": {
    "id": "IG34OskcGkjK"
   },
   "outputs": [
    {
     "name": "stdout",
     "output_type": "stream",
     "text": [
      "WARNING:tensorflow:From c:\\Users\\tienn\\anaconda3\\envs\\torchEnv\\Lib\\site-packages\\tf_keras\\src\\losses.py:2976: The name tf.losses.sparse_softmax_cross_entropy is deprecated. Please use tf.compat.v1.losses.sparse_softmax_cross_entropy instead.\n",
      "\n"
     ]
    }
   ],
   "source": [
    "import os\n",
    "import math\n",
    "import torch\n",
    "import pandas as pd\n",
    "\n",
    "from transformers import GPT2Tokenizer, GPT2LMHeadModel\n",
    "from transformers import DataCollatorForLanguageModeling\n",
    "from transformers import TrainingArguments, Trainer\n",
    "from huggingface_hub import notebook_login\n",
    "from datasets import Dataset"
   ]
  },
  {
   "cell_type": "code",
   "execution_count": 3,
   "metadata": {
    "colab": {
     "base_uri": "https://localhost:8080/",
     "height": 17,
     "referenced_widgets": [
      "f960ebb3b88849b893aab31ec19d6a18",
      "0f20c62ef3f84ed6af250729eccb7f30",
      "f90789fc5d1748fd9c81983b43a26a43",
      "e2baacc420094c5795fb1e60110006e6",
      "449821036e114de5979ffaeca1fd0127",
      "adae9718d01242c2a5ff717eee5bd14b",
      "c92cd0a6b2ef4ba49e6d40bfd96de676",
      "4c60aae9a6624592ba878123753a0b39",
      "7f87fe75a739479ab9cf2aca75ea7d98",
      "c7960c7bcd4d4d398541687adf14b578",
      "42eefe427adf4c44871bf6a118cf448a",
      "f7d7932b059b41529eb2521a9639c629",
      "5f20ad87e00a4994b9921e8d6201b4b2",
      "cbaaf67937ea4fa19ea851d7bb46f5bc",
      "2d98f8f7104f42e18e03f518381e5caa",
      "f13cbd8ed12346f397279ed72d4f151e",
      "74baea975e334cfba8ce8c53f7ce392d",
      "57f8b0fc76084a5e9689916ef9f7e470",
      "478442f995094d7eb16cc3ea9a59b15e",
      "88179b081d194f7c82f385b5766c921a"
     ]
    },
    "executionInfo": {
     "elapsed": 273,
     "status": "ok",
     "timestamp": 1740561745550,
     "user": {
      "displayName": "Thang Duong",
      "userId": "11768822623611408806"
     },
     "user_tz": -540
    },
    "id": "bDkNgljTRVk6",
    "outputId": "29991264-dedc-4803-ff68-893c106fdac9"
   },
   "outputs": [
    {
     "data": {
      "application/vnd.jupyter.widget-view+json": {
       "model_id": "8f48b88a320543a6a956e38f1f88882a",
       "version_major": 2,
       "version_minor": 0
      },
      "text/plain": [
       "VBox(children=(HTML(value='<center> <img\\nsrc=https://huggingface.co/front/assets/huggingface_logo-noborder.sv…"
      ]
     },
     "metadata": {},
     "output_type": "display_data"
    }
   ],
   "source": [
    "notebook_login()"
   ]
  },
  {
   "cell_type": "markdown",
   "metadata": {
    "id": "UOR89ZT2QEvC"
   },
   "source": [
    "## **2. Download and load poem dataset**"
   ]
  },
  {
   "cell_type": "code",
   "execution_count": 4,
   "metadata": {
    "id": "SkXzPBNaI3hV"
   },
   "outputs": [
    {
     "name": "stderr",
     "output_type": "stream",
     "text": [
      "C:\\Users\\tienn\\anaconda3\\lib\\site-packages\\gdown\\__main__.py:140: FutureWarning: Option `--id` was deprecated in version 4.3.1 and will be removed in 5.0. You don't need to pass it anymore to use a file ID.\n",
      "  warnings.warn(\n",
      "Downloading...\n",
      "From: https://drive.google.com/uc?id=18HElbOsuw8bDbQ5npj9Y9pHmUnf1Y93u\n",
      "To: e:\\OneDrive\\1.0 DS & AI\\AIO2024\\AIO-Exercise\\Module_08\\Text Project Poem Generation\\[Data]_Poem_NamChu_Thivien_Crawled_10pages.zip\n",
      "\n",
      "  0%|          | 0.00/37.6k [00:00<?, ?B/s]\n",
      "100%|██████████| 37.6k/37.6k [00:00<00:00, 708kB/s]\n"
     ]
    }
   ],
   "source": [
    "# https://drive.google.com/file/d/18HElbOsuw8bDbQ5npj9Y9pHmUnf1Y93u/view?usp=drive_link\n",
    "!gdown --id 18HElbOsuw8bDbQ5npj9Y9pHmUnf1Y93u\n",
    "!tar -xf [Data]_Poem_NamChu_Thivien_Crawled_10pages.zip"
   ]
  },
  {
   "cell_type": "code",
   "execution_count": 5,
   "metadata": {
    "id": "LyLSxUPGJBlc"
   },
   "outputs": [
    {
     "data": {
      "text/html": [
       "<div>\n",
       "<style scoped>\n",
       "    .dataframe tbody tr th:only-of-type {\n",
       "        vertical-align: middle;\n",
       "    }\n",
       "\n",
       "    .dataframe tbody tr th {\n",
       "        vertical-align: top;\n",
       "    }\n",
       "\n",
       "    .dataframe thead th {\n",
       "        text-align: right;\n",
       "    }\n",
       "</style>\n",
       "<table border=\"1\" class=\"dataframe\">\n",
       "  <thead>\n",
       "    <tr style=\"text-align: right;\">\n",
       "      <th></th>\n",
       "      <th>Unnamed: 0</th>\n",
       "      <th>title</th>\n",
       "      <th>content</th>\n",
       "      <th>source</th>\n",
       "      <th>url</th>\n",
       "    </tr>\n",
       "  </thead>\n",
       "  <tbody>\n",
       "    <tr>\n",
       "      <th>0</th>\n",
       "      <td>0</td>\n",
       "      <td>“Cái làm ta hạnh phúc”</td>\n",
       "      <td>Cái làm ta hạnh phúc\\nThực ra cũng chẳng nhiều...</td>\n",
       "      <td>Nguồn: Châm ngôn mới (thơ), Thái Bá Tân, NXB L...</td>\n",
       "      <td>https://www.thivien.net/Th%C3%A1i-B%C3%A1-T%C3...</td>\n",
       "    </tr>\n",
       "    <tr>\n",
       "      <th>1</th>\n",
       "      <td>1</td>\n",
       "      <td>“Chiều vừa xốp trên tay”</td>\n",
       "      <td>Chiều vừa xốp trên tay\\nChợt nghe thoáng ong b...</td>\n",
       "      <td>Nguồn: Lâm Huy Nhuận, Chiều có thật (thơ), NXB...</td>\n",
       "      <td>https://www.thivien.net/L%C3%A2m-Huy-Nhu%E1%BA...</td>\n",
       "    </tr>\n",
       "    <tr>\n",
       "      <th>2</th>\n",
       "      <td>2</td>\n",
       "      <td>“Dưới giàn hoa thiên lý...”</td>\n",
       "      <td>Dưới giàn hoa thiên lý\\nMột mình anh đang ngồi...</td>\n",
       "      <td>Nguồn: Nguyễn Nhật Ánh, Mắt biếc, NXB Trẻ, 2004</td>\n",
       "      <td>https://www.thivien.net/Nguy%E1%BB%85n-Nh%E1%B...</td>\n",
       "    </tr>\n",
       "    <tr>\n",
       "      <th>3</th>\n",
       "      <td>3</td>\n",
       "      <td>“Đến, nhiều nơi để đến”</td>\n",
       "      <td>Đến, nhiều nơi để đến\\nVề, trở lại với mình\\nC...</td>\n",
       "      <td>Nguồn: Châm ngôn mới (thơ), Thái Bá Tân, NXB L...</td>\n",
       "      <td>https://www.thivien.net/Th%C3%A1i-B%C3%A1-T%C3...</td>\n",
       "    </tr>\n",
       "    <tr>\n",
       "      <th>4</th>\n",
       "      <td>4</td>\n",
       "      <td>“Đừng bao giờ dại dột”</td>\n",
       "      <td>Đừng bao giờ dại dột\\nĐem chuyện riêng của mìn...</td>\n",
       "      <td>Nguồn: Châm ngôn mới (thơ), Thái Bá Tân, NXB L...</td>\n",
       "      <td>https://www.thivien.net/Th%C3%A1i-B%C3%A1-T%C3...</td>\n",
       "    </tr>\n",
       "    <tr>\n",
       "      <th>...</th>\n",
       "      <td>...</td>\n",
       "      <td>...</td>\n",
       "      <td>...</td>\n",
       "      <td>...</td>\n",
       "      <td>...</td>\n",
       "    </tr>\n",
       "    <tr>\n",
       "      <th>185</th>\n",
       "      <td>95</td>\n",
       "      <td>Ám ảnh sông xưa</td>\n",
       "      <td>Ôi, con sóng chết khô,\\nvật vờ trong bùn quánh...</td>\n",
       "      <td>NaN</td>\n",
       "      <td>https://www.thivien.net/%C4%90%E1%BB%97-Qu%E1%...</td>\n",
       "    </tr>\n",
       "    <tr>\n",
       "      <th>186</th>\n",
       "      <td>96</td>\n",
       "      <td>Áng dương không biết sầu</td>\n",
       "      <td>Áng dương không biết sầu\\nNằm mãi ở trên cao\\n...</td>\n",
       "      <td>Nguồn: Lâu Văn Mua, Tôi bay vào mắt em (thơ), ...</td>\n",
       "      <td>https://www.thivien.net/L%C3%A2u-V%C4%83n-Mua/...</td>\n",
       "    </tr>\n",
       "    <tr>\n",
       "      <th>187</th>\n",
       "      <td>97</td>\n",
       "      <td>Anh</td>\n",
       "      <td>Cây bút gẫy trong tay\\nCặn mực khô đáy lọ\\nÁnh...</td>\n",
       "      <td>19-7-1973\\n\\n[Thông tin 2 nguồn tham khảo đã đ...</td>\n",
       "      <td>https://www.thivien.net/Xu%C3%A2n-Qu%E1%BB%B3n...</td>\n",
       "    </tr>\n",
       "    <tr>\n",
       "      <th>188</th>\n",
       "      <td>98</td>\n",
       "      <td>Anh biết</td>\n",
       "      <td>Không có anh để già\\nLàm sao em được trẻ\\nMuốn...</td>\n",
       "      <td>NaN</td>\n",
       "      <td>https://www.thivien.net/Nguy%E1%BB%85n-Minh-D%...</td>\n",
       "    </tr>\n",
       "    <tr>\n",
       "      <th>189</th>\n",
       "      <td>99</td>\n",
       "      <td>Anh bốn mùa lập đông</td>\n",
       "      <td>Buồn, thì buồn thiệt đó\\nEm à, có biết không\\n...</td>\n",
       "      <td>NaN</td>\n",
       "      <td>https://www.thivien.net/Nguy%E1%BB%85n-Minh-D%...</td>\n",
       "    </tr>\n",
       "  </tbody>\n",
       "</table>\n",
       "<p>190 rows × 5 columns</p>\n",
       "</div>"
      ],
      "text/plain": [
       "     Unnamed: 0                        title  \\\n",
       "0             0       “Cái làm ta hạnh phúc”   \n",
       "1             1     “Chiều vừa xốp trên tay”   \n",
       "2             2  “Dưới giàn hoa thiên lý...”   \n",
       "3             3      “Đến, nhiều nơi để đến”   \n",
       "4             4       “Đừng bao giờ dại dột”   \n",
       "..          ...                          ...   \n",
       "185          95              Ám ảnh sông xưa   \n",
       "186          96     Áng dương không biết sầu   \n",
       "187          97                          Anh   \n",
       "188          98                     Anh biết   \n",
       "189          99         Anh bốn mùa lập đông   \n",
       "\n",
       "                                               content  \\\n",
       "0    Cái làm ta hạnh phúc\\nThực ra cũng chẳng nhiều...   \n",
       "1    Chiều vừa xốp trên tay\\nChợt nghe thoáng ong b...   \n",
       "2    Dưới giàn hoa thiên lý\\nMột mình anh đang ngồi...   \n",
       "3    Đến, nhiều nơi để đến\\nVề, trở lại với mình\\nC...   \n",
       "4    Đừng bao giờ dại dột\\nĐem chuyện riêng của mìn...   \n",
       "..                                                 ...   \n",
       "185  Ôi, con sóng chết khô,\\nvật vờ trong bùn quánh...   \n",
       "186  Áng dương không biết sầu\\nNằm mãi ở trên cao\\n...   \n",
       "187  Cây bút gẫy trong tay\\nCặn mực khô đáy lọ\\nÁnh...   \n",
       "188  Không có anh để già\\nLàm sao em được trẻ\\nMuốn...   \n",
       "189  Buồn, thì buồn thiệt đó\\nEm à, có biết không\\n...   \n",
       "\n",
       "                                                source  \\\n",
       "0    Nguồn: Châm ngôn mới (thơ), Thái Bá Tân, NXB L...   \n",
       "1    Nguồn: Lâm Huy Nhuận, Chiều có thật (thơ), NXB...   \n",
       "2      Nguồn: Nguyễn Nhật Ánh, Mắt biếc, NXB Trẻ, 2004   \n",
       "3    Nguồn: Châm ngôn mới (thơ), Thái Bá Tân, NXB L...   \n",
       "4    Nguồn: Châm ngôn mới (thơ), Thái Bá Tân, NXB L...   \n",
       "..                                                 ...   \n",
       "185                                                NaN   \n",
       "186  Nguồn: Lâu Văn Mua, Tôi bay vào mắt em (thơ), ...   \n",
       "187  19-7-1973\\n\\n[Thông tin 2 nguồn tham khảo đã đ...   \n",
       "188                                                NaN   \n",
       "189                                                NaN   \n",
       "\n",
       "                                                   url  \n",
       "0    https://www.thivien.net/Th%C3%A1i-B%C3%A1-T%C3...  \n",
       "1    https://www.thivien.net/L%C3%A2m-Huy-Nhu%E1%BA...  \n",
       "2    https://www.thivien.net/Nguy%E1%BB%85n-Nh%E1%B...  \n",
       "3    https://www.thivien.net/Th%C3%A1i-B%C3%A1-T%C3...  \n",
       "4    https://www.thivien.net/Th%C3%A1i-B%C3%A1-T%C3...  \n",
       "..                                                 ...  \n",
       "185  https://www.thivien.net/%C4%90%E1%BB%97-Qu%E1%...  \n",
       "186  https://www.thivien.net/L%C3%A2u-V%C4%83n-Mua/...  \n",
       "187  https://www.thivien.net/Xu%C3%A2n-Qu%E1%BB%B3n...  \n",
       "188  https://www.thivien.net/Nguy%E1%BB%85n-Minh-D%...  \n",
       "189  https://www.thivien.net/Nguy%E1%BB%85n-Minh-D%...  \n",
       "\n",
       "[190 rows x 5 columns]"
      ]
     },
     "execution_count": 5,
     "metadata": {},
     "output_type": "execute_result"
    }
   ],
   "source": [
    "DATASET_PATH = 'poem_final.csv'\n",
    "df = pd.read_csv(DATASET_PATH)\n",
    "df"
   ]
  },
  {
   "cell_type": "code",
   "execution_count": 6,
   "metadata": {
    "id": "CP3SsydS6fvV"
   },
   "outputs": [
    {
     "name": "stdout",
     "output_type": "stream",
     "text": [
      "Cái làm ta hạnh phúc\n",
      "Thực ra cũng chẳng nhiều\n",
      "Chỉ cần có ai đó\n",
      "Để ta thầm thương yêu\n",
      "\n",
      "Rồi thêm chút công việc\n",
      "Cho ta làm hàng ngày\n",
      "Cuối cùng, chút mơ mộng\n",
      "Để đưa ta lên mây\n"
     ]
    }
   ],
   "source": [
    "print(df['content'][0])"
   ]
  },
  {
   "cell_type": "code",
   "execution_count": 7,
   "metadata": {
    "id": "CLOb83ylcTQK"
   },
   "outputs": [
    {
     "data": {
      "text/html": [
       "<div>\n",
       "<style scoped>\n",
       "    .dataframe tbody tr th:only-of-type {\n",
       "        vertical-align: middle;\n",
       "    }\n",
       "\n",
       "    .dataframe tbody tr th {\n",
       "        vertical-align: top;\n",
       "    }\n",
       "\n",
       "    .dataframe thead th {\n",
       "        text-align: right;\n",
       "    }\n",
       "</style>\n",
       "<table border=\"1\" class=\"dataframe\">\n",
       "  <thead>\n",
       "    <tr style=\"text-align: right;\">\n",
       "      <th></th>\n",
       "      <th>Unnamed: 0</th>\n",
       "      <th>title</th>\n",
       "      <th>content</th>\n",
       "      <th>source</th>\n",
       "      <th>url</th>\n",
       "    </tr>\n",
       "  </thead>\n",
       "  <tbody>\n",
       "    <tr>\n",
       "      <th>0</th>\n",
       "      <td>0</td>\n",
       "      <td>“Cái làm ta hạnh phúc”</td>\n",
       "      <td>[[Cái làm ta hạnh phúc, Thực ra cũng chẳng nhi...</td>\n",
       "      <td>Nguồn: Châm ngôn mới (thơ), Thái Bá Tân, NXB L...</td>\n",
       "      <td>https://www.thivien.net/Th%C3%A1i-B%C3%A1-T%C3...</td>\n",
       "    </tr>\n",
       "    <tr>\n",
       "      <th>1</th>\n",
       "      <td>1</td>\n",
       "      <td>“Chiều vừa xốp trên tay”</td>\n",
       "      <td>[[Chiều vừa xốp trên tay, Chợt nghe thoáng ong...</td>\n",
       "      <td>Nguồn: Lâm Huy Nhuận, Chiều có thật (thơ), NXB...</td>\n",
       "      <td>https://www.thivien.net/L%C3%A2m-Huy-Nhu%E1%BA...</td>\n",
       "    </tr>\n",
       "    <tr>\n",
       "      <th>2</th>\n",
       "      <td>2</td>\n",
       "      <td>“Dưới giàn hoa thiên lý...”</td>\n",
       "      <td>[[Dưới giàn hoa thiên lý, Một mình anh đang ng...</td>\n",
       "      <td>Nguồn: Nguyễn Nhật Ánh, Mắt biếc, NXB Trẻ, 2004</td>\n",
       "      <td>https://www.thivien.net/Nguy%E1%BB%85n-Nh%E1%B...</td>\n",
       "    </tr>\n",
       "    <tr>\n",
       "      <th>3</th>\n",
       "      <td>3</td>\n",
       "      <td>“Đến, nhiều nơi để đến”</td>\n",
       "      <td>[[Đến, nhiều nơi để đến, Về, trở lại với mình,...</td>\n",
       "      <td>Nguồn: Châm ngôn mới (thơ), Thái Bá Tân, NXB L...</td>\n",
       "      <td>https://www.thivien.net/Th%C3%A1i-B%C3%A1-T%C3...</td>\n",
       "    </tr>\n",
       "    <tr>\n",
       "      <th>4</th>\n",
       "      <td>4</td>\n",
       "      <td>“Đừng bao giờ dại dột”</td>\n",
       "      <td>[[Đừng bao giờ dại dột, Đem chuyện riêng của m...</td>\n",
       "      <td>Nguồn: Châm ngôn mới (thơ), Thái Bá Tân, NXB L...</td>\n",
       "      <td>https://www.thivien.net/Th%C3%A1i-B%C3%A1-T%C3...</td>\n",
       "    </tr>\n",
       "    <tr>\n",
       "      <th>...</th>\n",
       "      <td>...</td>\n",
       "      <td>...</td>\n",
       "      <td>...</td>\n",
       "      <td>...</td>\n",
       "      <td>...</td>\n",
       "    </tr>\n",
       "    <tr>\n",
       "      <th>185</th>\n",
       "      <td>95</td>\n",
       "      <td>Ám ảnh sông xưa</td>\n",
       "      <td>[[Ôi, con sóng chết khô,, vật vờ trong bùn quá...</td>\n",
       "      <td>NaN</td>\n",
       "      <td>https://www.thivien.net/%C4%90%E1%BB%97-Qu%E1%...</td>\n",
       "    </tr>\n",
       "    <tr>\n",
       "      <th>186</th>\n",
       "      <td>96</td>\n",
       "      <td>Áng dương không biết sầu</td>\n",
       "      <td>[[Áng dương không biết sầu, Nằm mãi ở trên cao...</td>\n",
       "      <td>Nguồn: Lâu Văn Mua, Tôi bay vào mắt em (thơ), ...</td>\n",
       "      <td>https://www.thivien.net/L%C3%A2u-V%C4%83n-Mua/...</td>\n",
       "    </tr>\n",
       "    <tr>\n",
       "      <th>187</th>\n",
       "      <td>97</td>\n",
       "      <td>Anh</td>\n",
       "      <td>[]</td>\n",
       "      <td>19-7-1973\\n\\n[Thông tin 2 nguồn tham khảo đã đ...</td>\n",
       "      <td>https://www.thivien.net/Xu%C3%A2n-Qu%E1%BB%B3n...</td>\n",
       "    </tr>\n",
       "    <tr>\n",
       "      <th>188</th>\n",
       "      <td>98</td>\n",
       "      <td>Anh biết</td>\n",
       "      <td>[[Không có anh để già, Làm sao em được trẻ, Mu...</td>\n",
       "      <td>NaN</td>\n",
       "      <td>https://www.thivien.net/Nguy%E1%BB%85n-Minh-D%...</td>\n",
       "    </tr>\n",
       "    <tr>\n",
       "      <th>189</th>\n",
       "      <td>99</td>\n",
       "      <td>Anh bốn mùa lập đông</td>\n",
       "      <td>[[Buồn, thì buồn thiệt đó, Em à, có biết không...</td>\n",
       "      <td>NaN</td>\n",
       "      <td>https://www.thivien.net/Nguy%E1%BB%85n-Minh-D%...</td>\n",
       "    </tr>\n",
       "  </tbody>\n",
       "</table>\n",
       "<p>190 rows × 5 columns</p>\n",
       "</div>"
      ],
      "text/plain": [
       "     Unnamed: 0                        title  \\\n",
       "0             0       “Cái làm ta hạnh phúc”   \n",
       "1             1     “Chiều vừa xốp trên tay”   \n",
       "2             2  “Dưới giàn hoa thiên lý...”   \n",
       "3             3      “Đến, nhiều nơi để đến”   \n",
       "4             4       “Đừng bao giờ dại dột”   \n",
       "..          ...                          ...   \n",
       "185          95              Ám ảnh sông xưa   \n",
       "186          96     Áng dương không biết sầu   \n",
       "187          97                          Anh   \n",
       "188          98                     Anh biết   \n",
       "189          99         Anh bốn mùa lập đông   \n",
       "\n",
       "                                               content  \\\n",
       "0    [[Cái làm ta hạnh phúc, Thực ra cũng chẳng nhi...   \n",
       "1    [[Chiều vừa xốp trên tay, Chợt nghe thoáng ong...   \n",
       "2    [[Dưới giàn hoa thiên lý, Một mình anh đang ng...   \n",
       "3    [[Đến, nhiều nơi để đến, Về, trở lại với mình,...   \n",
       "4    [[Đừng bao giờ dại dột, Đem chuyện riêng của m...   \n",
       "..                                                 ...   \n",
       "185  [[Ôi, con sóng chết khô,, vật vờ trong bùn quá...   \n",
       "186  [[Áng dương không biết sầu, Nằm mãi ở trên cao...   \n",
       "187                                                 []   \n",
       "188  [[Không có anh để già, Làm sao em được trẻ, Mu...   \n",
       "189  [[Buồn, thì buồn thiệt đó, Em à, có biết không...   \n",
       "\n",
       "                                                source  \\\n",
       "0    Nguồn: Châm ngôn mới (thơ), Thái Bá Tân, NXB L...   \n",
       "1    Nguồn: Lâm Huy Nhuận, Chiều có thật (thơ), NXB...   \n",
       "2      Nguồn: Nguyễn Nhật Ánh, Mắt biếc, NXB Trẻ, 2004   \n",
       "3    Nguồn: Châm ngôn mới (thơ), Thái Bá Tân, NXB L...   \n",
       "4    Nguồn: Châm ngôn mới (thơ), Thái Bá Tân, NXB L...   \n",
       "..                                                 ...   \n",
       "185                                                NaN   \n",
       "186  Nguồn: Lâu Văn Mua, Tôi bay vào mắt em (thơ), ...   \n",
       "187  19-7-1973\\n\\n[Thông tin 2 nguồn tham khảo đã đ...   \n",
       "188                                                NaN   \n",
       "189                                                NaN   \n",
       "\n",
       "                                                   url  \n",
       "0    https://www.thivien.net/Th%C3%A1i-B%C3%A1-T%C3...  \n",
       "1    https://www.thivien.net/L%C3%A2m-Huy-Nhu%E1%BA...  \n",
       "2    https://www.thivien.net/Nguy%E1%BB%85n-Nh%E1%B...  \n",
       "3    https://www.thivien.net/Th%C3%A1i-B%C3%A1-T%C3...  \n",
       "4    https://www.thivien.net/Th%C3%A1i-B%C3%A1-T%C3...  \n",
       "..                                                 ...  \n",
       "185  https://www.thivien.net/%C4%90%E1%BB%97-Qu%E1%...  \n",
       "186  https://www.thivien.net/L%C3%A2u-V%C4%83n-Mua/...  \n",
       "187  https://www.thivien.net/Xu%C3%A2n-Qu%E1%BB%B3n...  \n",
       "188  https://www.thivien.net/Nguy%E1%BB%85n-Minh-D%...  \n",
       "189  https://www.thivien.net/Nguy%E1%BB%85n-Minh-D%...  \n",
       "\n",
       "[190 rows x 5 columns]"
      ]
     },
     "execution_count": 7,
     "metadata": {},
     "output_type": "execute_result"
    }
   ],
   "source": [
    "def split_content(content):\n",
    "    samples = []\n",
    "    poem_parts = content.split('\\n\\n')\n",
    "    for poem_part in poem_parts:\n",
    "        poem_in_lines = poem_part.split('\\n')\n",
    "        if len(poem_in_lines) == 4:\n",
    "            samples.append(poem_in_lines)\n",
    "    return samples\n",
    "\n",
    "df['content'] = df['content'].apply(lambda x: split_content(x))\n",
    "df"
   ]
  },
  {
   "cell_type": "code",
   "execution_count": 8,
   "metadata": {
    "id": "M3VYIw3ivn6p"
   },
   "outputs": [
    {
     "data": {
      "text/html": [
       "<div>\n",
       "<style scoped>\n",
       "    .dataframe tbody tr th:only-of-type {\n",
       "        vertical-align: middle;\n",
       "    }\n",
       "\n",
       "    .dataframe tbody tr th {\n",
       "        vertical-align: top;\n",
       "    }\n",
       "\n",
       "    .dataframe thead th {\n",
       "        text-align: right;\n",
       "    }\n",
       "</style>\n",
       "<table border=\"1\" class=\"dataframe\">\n",
       "  <thead>\n",
       "    <tr style=\"text-align: right;\">\n",
       "      <th></th>\n",
       "      <th>Unnamed: 0</th>\n",
       "      <th>title</th>\n",
       "      <th>content</th>\n",
       "      <th>source</th>\n",
       "      <th>url</th>\n",
       "    </tr>\n",
       "  </thead>\n",
       "  <tbody>\n",
       "    <tr>\n",
       "      <th>0</th>\n",
       "      <td>0</td>\n",
       "      <td>“Cái làm ta hạnh phúc”</td>\n",
       "      <td>[Cái làm ta hạnh phúc, Thực ra cũng chẳng nhiề...</td>\n",
       "      <td>Nguồn: Châm ngôn mới (thơ), Thái Bá Tân, NXB L...</td>\n",
       "      <td>https://www.thivien.net/Th%C3%A1i-B%C3%A1-T%C3...</td>\n",
       "    </tr>\n",
       "    <tr>\n",
       "      <th>1</th>\n",
       "      <td>0</td>\n",
       "      <td>“Cái làm ta hạnh phúc”</td>\n",
       "      <td>[Rồi thêm chút công việc, Cho ta làm hàng ngày...</td>\n",
       "      <td>Nguồn: Châm ngôn mới (thơ), Thái Bá Tân, NXB L...</td>\n",
       "      <td>https://www.thivien.net/Th%C3%A1i-B%C3%A1-T%C3...</td>\n",
       "    </tr>\n",
       "    <tr>\n",
       "      <th>2</th>\n",
       "      <td>1</td>\n",
       "      <td>“Chiều vừa xốp trên tay”</td>\n",
       "      <td>[Chiều vừa xốp trên tay, Chợt nghe thoáng ong ...</td>\n",
       "      <td>Nguồn: Lâm Huy Nhuận, Chiều có thật (thơ), NXB...</td>\n",
       "      <td>https://www.thivien.net/L%C3%A2m-Huy-Nhu%E1%BA...</td>\n",
       "    </tr>\n",
       "    <tr>\n",
       "      <th>3</th>\n",
       "      <td>1</td>\n",
       "      <td>“Chiều vừa xốp trên tay”</td>\n",
       "      <td>[Ớt đỏ sao cứ đỏ, Táo chín cho thật vàng, Em đ...</td>\n",
       "      <td>Nguồn: Lâm Huy Nhuận, Chiều có thật (thơ), NXB...</td>\n",
       "      <td>https://www.thivien.net/L%C3%A2m-Huy-Nhu%E1%BA...</td>\n",
       "    </tr>\n",
       "    <tr>\n",
       "      <th>4</th>\n",
       "      <td>2</td>\n",
       "      <td>“Dưới giàn hoa thiên lý...”</td>\n",
       "      <td>[Dưới giàn hoa thiên lý, Một mình anh đang ngồ...</td>\n",
       "      <td>Nguồn: Nguyễn Nhật Ánh, Mắt biếc, NXB Trẻ, 2004</td>\n",
       "      <td>https://www.thivien.net/Nguy%E1%BB%85n-Nh%E1%B...</td>\n",
       "    </tr>\n",
       "    <tr>\n",
       "      <th>...</th>\n",
       "      <td>...</td>\n",
       "      <td>...</td>\n",
       "      <td>...</td>\n",
       "      <td>...</td>\n",
       "      <td>...</td>\n",
       "    </tr>\n",
       "    <tr>\n",
       "      <th>481</th>\n",
       "      <td>98</td>\n",
       "      <td>Anh biết</td>\n",
       "      <td>[Đất hiến dâng tuổi trẻ, Trời buông thả tuổi g...</td>\n",
       "      <td>NaN</td>\n",
       "      <td>https://www.thivien.net/Nguy%E1%BB%85n-Minh-D%...</td>\n",
       "    </tr>\n",
       "    <tr>\n",
       "      <th>482</th>\n",
       "      <td>99</td>\n",
       "      <td>Anh bốn mùa lập đông</td>\n",
       "      <td>[Buồn, thì buồn thiệt đó, Em à, có biết không,...</td>\n",
       "      <td>NaN</td>\n",
       "      <td>https://www.thivien.net/Nguy%E1%BB%85n-Minh-D%...</td>\n",
       "    </tr>\n",
       "    <tr>\n",
       "      <th>483</th>\n",
       "      <td>99</td>\n",
       "      <td>Anh bốn mùa lập đông</td>\n",
       "      <td>[Vâng, phiến buồn còn đó, Em nào biết phải khô...</td>\n",
       "      <td>NaN</td>\n",
       "      <td>https://www.thivien.net/Nguy%E1%BB%85n-Minh-D%...</td>\n",
       "    </tr>\n",
       "    <tr>\n",
       "      <th>484</th>\n",
       "      <td>99</td>\n",
       "      <td>Anh bốn mùa lập đông</td>\n",
       "      <td>[Ừ, nỗi buồn vậy đó, Em đừng vội bâng khuâng, ...</td>\n",
       "      <td>NaN</td>\n",
       "      <td>https://www.thivien.net/Nguy%E1%BB%85n-Minh-D%...</td>\n",
       "    </tr>\n",
       "    <tr>\n",
       "      <th>485</th>\n",
       "      <td>99</td>\n",
       "      <td>Anh bốn mùa lập đông</td>\n",
       "      <td>[Biết buồn là mãi đó, Em đừng phai má hồng, Mộ...</td>\n",
       "      <td>NaN</td>\n",
       "      <td>https://www.thivien.net/Nguy%E1%BB%85n-Minh-D%...</td>\n",
       "    </tr>\n",
       "  </tbody>\n",
       "</table>\n",
       "<p>441 rows × 5 columns</p>\n",
       "</div>"
      ],
      "text/plain": [
       "     Unnamed: 0                        title  \\\n",
       "0             0       “Cái làm ta hạnh phúc”   \n",
       "1             0       “Cái làm ta hạnh phúc”   \n",
       "2             1     “Chiều vừa xốp trên tay”   \n",
       "3             1     “Chiều vừa xốp trên tay”   \n",
       "4             2  “Dưới giàn hoa thiên lý...”   \n",
       "..          ...                          ...   \n",
       "481          98                     Anh biết   \n",
       "482          99         Anh bốn mùa lập đông   \n",
       "483          99         Anh bốn mùa lập đông   \n",
       "484          99         Anh bốn mùa lập đông   \n",
       "485          99         Anh bốn mùa lập đông   \n",
       "\n",
       "                                               content  \\\n",
       "0    [Cái làm ta hạnh phúc, Thực ra cũng chẳng nhiề...   \n",
       "1    [Rồi thêm chút công việc, Cho ta làm hàng ngày...   \n",
       "2    [Chiều vừa xốp trên tay, Chợt nghe thoáng ong ...   \n",
       "3    [Ớt đỏ sao cứ đỏ, Táo chín cho thật vàng, Em đ...   \n",
       "4    [Dưới giàn hoa thiên lý, Một mình anh đang ngồ...   \n",
       "..                                                 ...   \n",
       "481  [Đất hiến dâng tuổi trẻ, Trời buông thả tuổi g...   \n",
       "482  [Buồn, thì buồn thiệt đó, Em à, có biết không,...   \n",
       "483  [Vâng, phiến buồn còn đó, Em nào biết phải khô...   \n",
       "484  [Ừ, nỗi buồn vậy đó, Em đừng vội bâng khuâng, ...   \n",
       "485  [Biết buồn là mãi đó, Em đừng phai má hồng, Mộ...   \n",
       "\n",
       "                                                source  \\\n",
       "0    Nguồn: Châm ngôn mới (thơ), Thái Bá Tân, NXB L...   \n",
       "1    Nguồn: Châm ngôn mới (thơ), Thái Bá Tân, NXB L...   \n",
       "2    Nguồn: Lâm Huy Nhuận, Chiều có thật (thơ), NXB...   \n",
       "3    Nguồn: Lâm Huy Nhuận, Chiều có thật (thơ), NXB...   \n",
       "4      Nguồn: Nguyễn Nhật Ánh, Mắt biếc, NXB Trẻ, 2004   \n",
       "..                                                 ...   \n",
       "481                                                NaN   \n",
       "482                                                NaN   \n",
       "483                                                NaN   \n",
       "484                                                NaN   \n",
       "485                                                NaN   \n",
       "\n",
       "                                                   url  \n",
       "0    https://www.thivien.net/Th%C3%A1i-B%C3%A1-T%C3...  \n",
       "1    https://www.thivien.net/Th%C3%A1i-B%C3%A1-T%C3...  \n",
       "2    https://www.thivien.net/L%C3%A2m-Huy-Nhu%E1%BA...  \n",
       "3    https://www.thivien.net/L%C3%A2m-Huy-Nhu%E1%BA...  \n",
       "4    https://www.thivien.net/Nguy%E1%BB%85n-Nh%E1%B...  \n",
       "..                                                 ...  \n",
       "481  https://www.thivien.net/Nguy%E1%BB%85n-Minh-D%...  \n",
       "482  https://www.thivien.net/Nguy%E1%BB%85n-Minh-D%...  \n",
       "483  https://www.thivien.net/Nguy%E1%BB%85n-Minh-D%...  \n",
       "484  https://www.thivien.net/Nguy%E1%BB%85n-Minh-D%...  \n",
       "485  https://www.thivien.net/Nguy%E1%BB%85n-Minh-D%...  \n",
       "\n",
       "[441 rows x 5 columns]"
      ]
     },
     "execution_count": 8,
     "metadata": {},
     "output_type": "execute_result"
    }
   ],
   "source": [
    "df_exploded = df.explode('content')\n",
    "df_exploded.reset_index(drop=True, inplace=True)\n",
    "df_exploded = df_exploded.dropna(subset=['content'])\n",
    "df_exploded"
   ]
  },
  {
   "cell_type": "code",
   "execution_count": 9,
   "metadata": {
    "id": "uf3nRxePvqRd"
   },
   "outputs": [
    {
     "data": {
      "text/html": [
       "<div>\n",
       "<style scoped>\n",
       "    .dataframe tbody tr th:only-of-type {\n",
       "        vertical-align: middle;\n",
       "    }\n",
       "\n",
       "    .dataframe tbody tr th {\n",
       "        vertical-align: top;\n",
       "    }\n",
       "\n",
       "    .dataframe thead th {\n",
       "        text-align: right;\n",
       "    }\n",
       "</style>\n",
       "<table border=\"1\" class=\"dataframe\">\n",
       "  <thead>\n",
       "    <tr style=\"text-align: right;\">\n",
       "      <th></th>\n",
       "      <th>Unnamed: 0</th>\n",
       "      <th>title</th>\n",
       "      <th>content</th>\n",
       "      <th>source</th>\n",
       "      <th>url</th>\n",
       "    </tr>\n",
       "  </thead>\n",
       "  <tbody>\n",
       "    <tr>\n",
       "      <th>0</th>\n",
       "      <td>0</td>\n",
       "      <td>“Cái làm ta hạnh phúc”</td>\n",
       "      <td>Cái làm ta hạnh phúc\\nThực ra cũng chẳng nhiều...</td>\n",
       "      <td>Nguồn: Châm ngôn mới (thơ), Thái Bá Tân, NXB L...</td>\n",
       "      <td>https://www.thivien.net/Th%C3%A1i-B%C3%A1-T%C3...</td>\n",
       "    </tr>\n",
       "    <tr>\n",
       "      <th>1</th>\n",
       "      <td>0</td>\n",
       "      <td>“Cái làm ta hạnh phúc”</td>\n",
       "      <td>Rồi thêm chút công việc\\nCho ta làm hàng ngày\\...</td>\n",
       "      <td>Nguồn: Châm ngôn mới (thơ), Thái Bá Tân, NXB L...</td>\n",
       "      <td>https://www.thivien.net/Th%C3%A1i-B%C3%A1-T%C3...</td>\n",
       "    </tr>\n",
       "    <tr>\n",
       "      <th>2</th>\n",
       "      <td>1</td>\n",
       "      <td>“Chiều vừa xốp trên tay”</td>\n",
       "      <td>Chiều vừa xốp trên tay\\nChợt nghe thoáng ong b...</td>\n",
       "      <td>Nguồn: Lâm Huy Nhuận, Chiều có thật (thơ), NXB...</td>\n",
       "      <td>https://www.thivien.net/L%C3%A2m-Huy-Nhu%E1%BA...</td>\n",
       "    </tr>\n",
       "    <tr>\n",
       "      <th>3</th>\n",
       "      <td>1</td>\n",
       "      <td>“Chiều vừa xốp trên tay”</td>\n",
       "      <td>Ớt đỏ sao cứ đỏ\\nTáo chín cho thật vàng\\nEm đẹ...</td>\n",
       "      <td>Nguồn: Lâm Huy Nhuận, Chiều có thật (thơ), NXB...</td>\n",
       "      <td>https://www.thivien.net/L%C3%A2m-Huy-Nhu%E1%BA...</td>\n",
       "    </tr>\n",
       "    <tr>\n",
       "      <th>4</th>\n",
       "      <td>2</td>\n",
       "      <td>“Dưới giàn hoa thiên lý...”</td>\n",
       "      <td>Dưới giàn hoa thiên lý\\nMột mình anh đang ngồi...</td>\n",
       "      <td>Nguồn: Nguyễn Nhật Ánh, Mắt biếc, NXB Trẻ, 2004</td>\n",
       "      <td>https://www.thivien.net/Nguy%E1%BB%85n-Nh%E1%B...</td>\n",
       "    </tr>\n",
       "    <tr>\n",
       "      <th>...</th>\n",
       "      <td>...</td>\n",
       "      <td>...</td>\n",
       "      <td>...</td>\n",
       "      <td>...</td>\n",
       "      <td>...</td>\n",
       "    </tr>\n",
       "    <tr>\n",
       "      <th>481</th>\n",
       "      <td>98</td>\n",
       "      <td>Anh biết</td>\n",
       "      <td>Đất hiến dâng tuổi trẻ\\nTrời buông thả tuổi gi...</td>\n",
       "      <td>NaN</td>\n",
       "      <td>https://www.thivien.net/Nguy%E1%BB%85n-Minh-D%...</td>\n",
       "    </tr>\n",
       "    <tr>\n",
       "      <th>482</th>\n",
       "      <td>99</td>\n",
       "      <td>Anh bốn mùa lập đông</td>\n",
       "      <td>Buồn, thì buồn thiệt đó\\nEm à, có biết không\\n...</td>\n",
       "      <td>NaN</td>\n",
       "      <td>https://www.thivien.net/Nguy%E1%BB%85n-Minh-D%...</td>\n",
       "    </tr>\n",
       "    <tr>\n",
       "      <th>483</th>\n",
       "      <td>99</td>\n",
       "      <td>Anh bốn mùa lập đông</td>\n",
       "      <td>Vâng, phiến buồn còn đó\\nEm nào biết phải khôn...</td>\n",
       "      <td>NaN</td>\n",
       "      <td>https://www.thivien.net/Nguy%E1%BB%85n-Minh-D%...</td>\n",
       "    </tr>\n",
       "    <tr>\n",
       "      <th>484</th>\n",
       "      <td>99</td>\n",
       "      <td>Anh bốn mùa lập đông</td>\n",
       "      <td>Ừ, nỗi buồn vậy đó\\nEm đừng vội bâng khuâng\\nV...</td>\n",
       "      <td>NaN</td>\n",
       "      <td>https://www.thivien.net/Nguy%E1%BB%85n-Minh-D%...</td>\n",
       "    </tr>\n",
       "    <tr>\n",
       "      <th>485</th>\n",
       "      <td>99</td>\n",
       "      <td>Anh bốn mùa lập đông</td>\n",
       "      <td>Biết buồn là mãi đó\\nEm đừng phai má hồng\\nMột...</td>\n",
       "      <td>NaN</td>\n",
       "      <td>https://www.thivien.net/Nguy%E1%BB%85n-Minh-D%...</td>\n",
       "    </tr>\n",
       "  </tbody>\n",
       "</table>\n",
       "<p>441 rows × 5 columns</p>\n",
       "</div>"
      ],
      "text/plain": [
       "     Unnamed: 0                        title  \\\n",
       "0             0       “Cái làm ta hạnh phúc”   \n",
       "1             0       “Cái làm ta hạnh phúc”   \n",
       "2             1     “Chiều vừa xốp trên tay”   \n",
       "3             1     “Chiều vừa xốp trên tay”   \n",
       "4             2  “Dưới giàn hoa thiên lý...”   \n",
       "..          ...                          ...   \n",
       "481          98                     Anh biết   \n",
       "482          99         Anh bốn mùa lập đông   \n",
       "483          99         Anh bốn mùa lập đông   \n",
       "484          99         Anh bốn mùa lập đông   \n",
       "485          99         Anh bốn mùa lập đông   \n",
       "\n",
       "                                               content  \\\n",
       "0    Cái làm ta hạnh phúc\\nThực ra cũng chẳng nhiều...   \n",
       "1    Rồi thêm chút công việc\\nCho ta làm hàng ngày\\...   \n",
       "2    Chiều vừa xốp trên tay\\nChợt nghe thoáng ong b...   \n",
       "3    Ớt đỏ sao cứ đỏ\\nTáo chín cho thật vàng\\nEm đẹ...   \n",
       "4    Dưới giàn hoa thiên lý\\nMột mình anh đang ngồi...   \n",
       "..                                                 ...   \n",
       "481  Đất hiến dâng tuổi trẻ\\nTrời buông thả tuổi gi...   \n",
       "482  Buồn, thì buồn thiệt đó\\nEm à, có biết không\\n...   \n",
       "483  Vâng, phiến buồn còn đó\\nEm nào biết phải khôn...   \n",
       "484  Ừ, nỗi buồn vậy đó\\nEm đừng vội bâng khuâng\\nV...   \n",
       "485  Biết buồn là mãi đó\\nEm đừng phai má hồng\\nMột...   \n",
       "\n",
       "                                                source  \\\n",
       "0    Nguồn: Châm ngôn mới (thơ), Thái Bá Tân, NXB L...   \n",
       "1    Nguồn: Châm ngôn mới (thơ), Thái Bá Tân, NXB L...   \n",
       "2    Nguồn: Lâm Huy Nhuận, Chiều có thật (thơ), NXB...   \n",
       "3    Nguồn: Lâm Huy Nhuận, Chiều có thật (thơ), NXB...   \n",
       "4      Nguồn: Nguyễn Nhật Ánh, Mắt biếc, NXB Trẻ, 2004   \n",
       "..                                                 ...   \n",
       "481                                                NaN   \n",
       "482                                                NaN   \n",
       "483                                                NaN   \n",
       "484                                                NaN   \n",
       "485                                                NaN   \n",
       "\n",
       "                                                   url  \n",
       "0    https://www.thivien.net/Th%C3%A1i-B%C3%A1-T%C3...  \n",
       "1    https://www.thivien.net/Th%C3%A1i-B%C3%A1-T%C3...  \n",
       "2    https://www.thivien.net/L%C3%A2m-Huy-Nhu%E1%BA...  \n",
       "3    https://www.thivien.net/L%C3%A2m-Huy-Nhu%E1%BA...  \n",
       "4    https://www.thivien.net/Nguy%E1%BB%85n-Nh%E1%B...  \n",
       "..                                                 ...  \n",
       "481  https://www.thivien.net/Nguy%E1%BB%85n-Minh-D%...  \n",
       "482  https://www.thivien.net/Nguy%E1%BB%85n-Minh-D%...  \n",
       "483  https://www.thivien.net/Nguy%E1%BB%85n-Minh-D%...  \n",
       "484  https://www.thivien.net/Nguy%E1%BB%85n-Minh-D%...  \n",
       "485  https://www.thivien.net/Nguy%E1%BB%85n-Minh-D%...  \n",
       "\n",
       "[441 rows x 5 columns]"
      ]
     },
     "execution_count": 9,
     "metadata": {},
     "output_type": "execute_result"
    }
   ],
   "source": [
    "df_exploded['content'] = df_exploded['content'].apply(lambda x: '\\n'.join(x))\n",
    "df_exploded"
   ]
  },
  {
   "cell_type": "code",
   "execution_count": 10,
   "metadata": {
    "id": "L2zBk_XHJKF7"
   },
   "outputs": [
    {
     "data": {
      "text/plain": [
       "Dataset({\n",
       "    features: ['Unnamed: 0', 'title', 'content', 'source', 'url', '__index_level_0__'],\n",
       "    num_rows: 441\n",
       "})"
      ]
     },
     "execution_count": 10,
     "metadata": {},
     "output_type": "execute_result"
    }
   ],
   "source": [
    "poem_dataset = Dataset.from_pandas(df_exploded)\n",
    "poem_dataset"
   ]
  },
  {
   "cell_type": "code",
   "execution_count": 11,
   "metadata": {
    "id": "XIkvjsCuTA0D"
   },
   "outputs": [
    {
     "data": {
      "text/plain": [
       "DatasetDict({\n",
       "    train: Dataset({\n",
       "        features: ['Unnamed: 0', 'title', 'content', 'source', 'url', '__index_level_0__'],\n",
       "        num_rows: 396\n",
       "    })\n",
       "    test: Dataset({\n",
       "        features: ['Unnamed: 0', 'title', 'content', 'source', 'url', '__index_level_0__'],\n",
       "        num_rows: 45\n",
       "    })\n",
       "})"
      ]
     },
     "execution_count": 11,
     "metadata": {},
     "output_type": "execute_result"
    }
   ],
   "source": [
    "TEST_SIZE = 0.1\n",
    "poem_dataset = poem_dataset.train_test_split(test_size=TEST_SIZE)\n",
    "poem_dataset"
   ]
  },
  {
   "cell_type": "markdown",
   "metadata": {
    "id": "YeeP2wHYQPSS"
   },
   "source": [
    "## **3. Preprocess dataset**"
   ]
  },
  {
   "cell_type": "code",
   "execution_count": 12,
   "metadata": {
    "id": "s16Ys0qcIhrR"
   },
   "outputs": [],
   "source": [
    "MODEL_NAME = 'danghuy1999/gpt2-viwiki'\n",
    "\n",
    "tokenizer = GPT2Tokenizer.from_pretrained(MODEL_NAME)"
   ]
  },
  {
   "cell_type": "code",
   "execution_count": 13,
   "metadata": {
    "id": "ZKw3TLqZOy66"
   },
   "outputs": [
    {
     "data": {
      "application/vnd.jupyter.widget-view+json": {
       "model_id": "106216dda4ef4606a339f55c8cffdfab",
       "version_major": 2,
       "version_minor": 0
      },
      "text/plain": [
       "Map:   0%|          | 0/396 [00:00<?, ? examples/s]"
      ]
     },
     "metadata": {},
     "output_type": "display_data"
    },
    {
     "data": {
      "application/vnd.jupyter.widget-view+json": {
       "model_id": "7107970f564045a59be254b258fd411f",
       "version_major": 2,
       "version_minor": 0
      },
      "text/plain": [
       "Map:   0%|          | 0/45 [00:00<?, ? examples/s]"
      ]
     },
     "metadata": {},
     "output_type": "display_data"
    }
   ],
   "source": [
    "tokenizer.pad_token = tokenizer.eos_token\n",
    "MAX_SEQ_LEN = 100\n",
    "\n",
    "def preprocess_function(row):\n",
    "    return tokenizer(\n",
    "        row['content'],\n",
    "        max_length=MAX_SEQ_LEN,\n",
    "        padding='max_length',\n",
    "        truncation=True\n",
    "    )\n",
    "\n",
    "tokenized_poem_dataset = poem_dataset.map(\n",
    "    preprocess_function,\n",
    "    batched=True,\n",
    "    num_proc=1,\n",
    "    remove_columns=poem_dataset['train'].column_names,\n",
    ")"
   ]
  },
  {
   "cell_type": "code",
   "execution_count": 14,
   "metadata": {
    "id": "Q9iUKlBUfeKS"
   },
   "outputs": [
    {
     "data": {
      "text/plain": [
       "{'input_ids': [6504, 3939, 331, 1486, 0, 0, 0, 0, 0, 0], 'attention_mask': [1, 1, 1, 1, 0, 0, 0, 0, 0, 0]}"
      ]
     },
     "execution_count": 14,
     "metadata": {},
     "output_type": "execute_result"
    }
   ],
   "source": [
    "tokenizer('xin chào các bạn', max_length=10, padding='max_length', truncation=True)"
   ]
  },
  {
   "cell_type": "code",
   "execution_count": 15,
   "metadata": {
    "id": "8RLHIvD4PdB5"
   },
   "outputs": [
    {
     "data": {
      "text/plain": [
       "dict_keys(['input_ids', 'attention_mask'])"
      ]
     },
     "execution_count": 15,
     "metadata": {},
     "output_type": "execute_result"
    }
   ],
   "source": [
    "tokenized_poem_dataset['train'][0].keys()"
   ]
  },
  {
   "cell_type": "code",
   "execution_count": 16,
   "metadata": {
    "id": "2RlY7v0oPwj8"
   },
   "outputs": [],
   "source": [
    "data_collator = DataCollatorForLanguageModeling(tokenizer=tokenizer, mlm=False)"
   ]
  },
  {
   "cell_type": "markdown",
   "metadata": {
    "id": "l1tDa9eeP7xB"
   },
   "source": [
    "## **4. Training**"
   ]
  },
  {
   "cell_type": "code",
   "execution_count": 17,
   "metadata": {
    "id": "4tHsNVS8QYPZ"
   },
   "outputs": [],
   "source": [
    "model = GPT2LMHeadModel.from_pretrained(MODEL_NAME)"
   ]
  },
  {
   "cell_type": "code",
   "execution_count": 18,
   "metadata": {
    "id": "tEEZFhVdP6SA"
   },
   "outputs": [],
   "source": [
    "training_args = TrainingArguments(\n",
    "    output_dir=\"gpt2_viet_poem_generation\",\n",
    "    save_strategy=\"epoch\",\n",
    "    learning_rate=2e-5,\n",
    "    num_train_epochs=10,\n",
    "    weight_decay=0.01,\n",
    "    fp16=True\n",
    ")"
   ]
  },
  {
   "cell_type": "code",
   "execution_count": 19,
   "metadata": {
    "id": "IJL80dMXP7fq"
   },
   "outputs": [
    {
     "name": "stderr",
     "output_type": "stream",
     "text": [
      "C:\\Users\\tienn\\AppData\\Local\\Temp\\ipykernel_9588\\3086464916.py:1: FutureWarning: `tokenizer` is deprecated and will be removed in version 5.0.0 for `Trainer.__init__`. Use `processing_class` instead.\n",
      "  trainer = Trainer(\n",
      "\u001b[34m\u001b[1mwandb\u001b[0m: \u001b[33mWARNING\u001b[0m The `run_name` is currently set to the same value as `TrainingArguments.output_dir`. If this was not intended, please specify a different run name by setting the `TrainingArguments.run_name` parameter.\n",
      "wandb: Using wandb-core as the SDK backend.  Please refer to https://wandb.me/wandb-core for more information.\n",
      "wandb: Currently logged in as: tienhyu (tienhyu-lixil) to https://api.wandb.ai. Use `wandb login --relogin` to force relogin\n"
     ]
    },
    {
     "data": {
      "text/html": [
       "Tracking run with wandb version 0.19.7"
      ],
      "text/plain": [
       "<IPython.core.display.HTML object>"
      ]
     },
     "metadata": {},
     "output_type": "display_data"
    },
    {
     "data": {
      "text/html": [
       "Run data is saved locally in <code>e:\\OneDrive\\1.0 DS & AI\\AIO2024\\AIO-Exercise\\Module_08\\Text Project Poem Generation\\wandb\\run-20250303_231346-cpcqocx6</code>"
      ],
      "text/plain": [
       "<IPython.core.display.HTML object>"
      ]
     },
     "metadata": {},
     "output_type": "display_data"
    },
    {
     "data": {
      "text/html": [
       "Syncing run <strong><a href='https://wandb.ai/tienhyu-lixil/huggingface/runs/cpcqocx6' target=\"_blank\">gpt2_viet_poem_generation</a></strong> to <a href='https://wandb.ai/tienhyu-lixil/huggingface' target=\"_blank\">Weights & Biases</a> (<a href='https://wandb.me/developer-guide' target=\"_blank\">docs</a>)<br>"
      ],
      "text/plain": [
       "<IPython.core.display.HTML object>"
      ]
     },
     "metadata": {},
     "output_type": "display_data"
    },
    {
     "data": {
      "text/html": [
       " View project at <a href='https://wandb.ai/tienhyu-lixil/huggingface' target=\"_blank\">https://wandb.ai/tienhyu-lixil/huggingface</a>"
      ],
      "text/plain": [
       "<IPython.core.display.HTML object>"
      ]
     },
     "metadata": {},
     "output_type": "display_data"
    },
    {
     "data": {
      "text/html": [
       " View run at <a href='https://wandb.ai/tienhyu-lixil/huggingface/runs/cpcqocx6' target=\"_blank\">https://wandb.ai/tienhyu-lixil/huggingface/runs/cpcqocx6</a>"
      ],
      "text/plain": [
       "<IPython.core.display.HTML object>"
      ]
     },
     "metadata": {},
     "output_type": "display_data"
    },
    {
     "name": "stderr",
     "output_type": "stream",
     "text": [
      "`loss_type=None` was set in the config but it is unrecognised.Using the default loss: `ForCausalLMLoss`.\n"
     ]
    },
    {
     "data": {
      "text/html": [
       "\n",
       "    <div>\n",
       "      \n",
       "      <progress value='500' max='500' style='width:300px; height:20px; vertical-align: middle;'></progress>\n",
       "      [500/500 00:48, Epoch 10/10]\n",
       "    </div>\n",
       "    <table border=\"1\" class=\"dataframe\">\n",
       "  <thead>\n",
       " <tr style=\"text-align: left;\">\n",
       "      <th>Step</th>\n",
       "      <th>Training Loss</th>\n",
       "    </tr>\n",
       "  </thead>\n",
       "  <tbody>\n",
       "    <tr>\n",
       "      <td>500</td>\n",
       "      <td>5.597500</td>\n",
       "    </tr>\n",
       "  </tbody>\n",
       "</table><p>"
      ],
      "text/plain": [
       "<IPython.core.display.HTML object>"
      ]
     },
     "metadata": {},
     "output_type": "display_data"
    },
    {
     "data": {
      "text/plain": [
       "TrainOutput(global_step=500, training_loss=5.5974970703125, metrics={'train_runtime': 52.0243, 'train_samples_per_second': 76.118, 'train_steps_per_second': 9.611, 'total_flos': 202093056000000.0, 'train_loss': 5.5974970703125, 'epoch': 10.0})"
      ]
     },
     "execution_count": 19,
     "metadata": {},
     "output_type": "execute_result"
    }
   ],
   "source": [
    "trainer = Trainer(\n",
    "    model=model,\n",
    "    args=training_args,\n",
    "    train_dataset=tokenized_poem_dataset[\"train\"],\n",
    "    eval_dataset=tokenized_poem_dataset[\"test\"],\n",
    "    data_collator=data_collator,\n",
    "    tokenizer=tokenizer\n",
    ")\n",
    "\n",
    "trainer.train()"
   ]
  },
  {
   "cell_type": "code",
   "execution_count": 20,
   "metadata": {
    "id": "VoXwHFSMUmf1"
   },
   "outputs": [
    {
     "data": {
      "application/vnd.jupyter.widget-view+json": {
       "model_id": "850f1c4a76c84a78b2096b4af5c0dd4b",
       "version_major": 2,
       "version_minor": 0
      },
      "text/plain": [
       "model.safetensors:   0%|          | 0.00/498M [00:00<?, ?B/s]"
      ]
     },
     "metadata": {},
     "output_type": "display_data"
    },
    {
     "data": {
      "application/vnd.jupyter.widget-view+json": {
       "model_id": "78093338290d4020a2b2a76d0f95a0bb",
       "version_major": 2,
       "version_minor": 0
      },
      "text/plain": [
       "events.out.tfevents.1741018425.tienhyupc.9588.0:   0%|          | 0.00/6.01k [00:00<?, ?B/s]"
      ]
     },
     "metadata": {},
     "output_type": "display_data"
    },
    {
     "data": {
      "application/vnd.jupyter.widget-view+json": {
       "model_id": "6dd1ef627d1941b7a5b360900f3a8e8e",
       "version_major": 2,
       "version_minor": 0
      },
      "text/plain": [
       "Upload 4 LFS files:   0%|          | 0/4 [00:00<?, ?it/s]"
      ]
     },
     "metadata": {},
     "output_type": "display_data"
    },
    {
     "data": {
      "application/vnd.jupyter.widget-view+json": {
       "model_id": "e8f0376656d04b60be46568969aa74f6",
       "version_major": 2,
       "version_minor": 0
      },
      "text/plain": [
       "events.out.tfevents.1741017835.tienhyupc.1476.0:   0%|          | 0.00/5.45k [00:00<?, ?B/s]"
      ]
     },
     "metadata": {},
     "output_type": "display_data"
    },
    {
     "data": {
      "application/vnd.jupyter.widget-view+json": {
       "model_id": "3997ed86e9064b1aae178cc958f4a786",
       "version_major": 2,
       "version_minor": 0
      },
      "text/plain": [
       "training_args.bin:   0%|          | 0.00/5.37k [00:00<?, ?B/s]"
      ]
     },
     "metadata": {},
     "output_type": "display_data"
    },
    {
     "data": {
      "text/plain": [
       "CommitInfo(commit_url='https://huggingface.co/tienaio2024/gpt2_viet_poem_generation/commit/91e1dcafc329122642625d83b01686bb52cbcbee', commit_message='Training complete', commit_description='', oid='91e1dcafc329122642625d83b01686bb52cbcbee', pr_url=None, repo_url=RepoUrl('https://huggingface.co/tienaio2024/gpt2_viet_poem_generation', endpoint='https://huggingface.co', repo_type='model', repo_id='tienaio2024/gpt2_viet_poem_generation'), pr_revision=None, pr_num=None)"
      ]
     },
     "execution_count": 20,
     "metadata": {},
     "output_type": "execute_result"
    }
   ],
   "source": [
    "trainer.push_to_hub(commit_message=\"Training complete\")"
   ]
  },
  {
   "cell_type": "markdown",
   "metadata": {
    "id": "dqtL6PR9Vwzy"
   },
   "source": [
    "## **5. Inference**"
   ]
  },
  {
   "cell_type": "code",
   "execution_count": 21,
   "metadata": {
    "id": "QiwY1EZvV654"
   },
   "outputs": [
    {
     "name": "stderr",
     "output_type": "stream",
     "text": [
      "The attention mask and the pad token id were not set. As a consequence, you may observe unexpected behavior. Please pass your input's `attention_mask` to obtain reliable results.\n",
      "Setting `pad_token_id` to `eos_token_id`:50256 for open-end generation.\n",
      "The attention mask is not set and cannot be inferred from input because pad token is same as eos token. As a consequence, you may observe unexpected behavior. Please pass your input's `attention_mask` to obtain reliable results.\n"
     ]
    },
    {
     "name": "stdout",
     "output_type": "stream",
     "text": [
      "\n",
      "Học học nữa học mãi\n",
      "Theo đó, có ai chẳng có\n",
      "Chút học vẫn ở đâu? trăng nào trời mưa?\n",
      "Còn, nơi nào không?\n",
      "Cho mình theo điều trái? Đó là người đầu tiên…!\n",
      "Tôi cũng nói đến với con người...\n"
     ]
    }
   ],
   "source": [
    "from transformers import pipeline\n",
    "\n",
    "prompt = \"Học học nữa học mãi\\n\"\n",
    "device = \"cuda\" if torch.cuda.is_available() else \"cpu\"\n",
    "\n",
    "inputs = tokenizer(prompt, return_tensors=\"pt\").input_ids.to(device)\n",
    "\n",
    "outputs = model.generate(\n",
    "    inputs,\n",
    "    max_new_tokens=50,\n",
    "    do_sample=True,\n",
    "    top_k=50,\n",
    "    top_p=0.95,\n",
    "    temperature=0.8,\n",
    "    repetition_penalty=1.2\n",
    ")\n",
    "\n",
    "results = tokenizer.batch_decode(outputs, skip_special_tokens=True)\n",
    "results = results[0]\n",
    "\n",
    "print()\n",
    "for line in results.split(\"\\n\"):\n",
    "    print(line)"
   ]
  }
 ],
 "metadata": {
  "accelerator": "GPU",
  "colab": {
   "gpuType": "T4",
   "provenance": []
  },
  "kernelspec": {
   "display_name": "torchEnv",
   "language": "python",
   "name": "python3"
  },
  "language_info": {
   "codemirror_mode": {
    "name": "ipython",
    "version": 3
   },
   "file_extension": ".py",
   "mimetype": "text/x-python",
   "name": "python",
   "nbconvert_exporter": "python",
   "pygments_lexer": "ipython3",
   "version": "3.12.8"
  },
  "widgets": {
   "application/vnd.jupyter.widget-state+json": {
    "0f20c62ef3f84ed6af250729eccb7f30": {
     "model_module": "@jupyter-widgets/controls",
     "model_module_version": "1.5.0",
     "model_name": "HTMLModel",
     "state": {
      "_dom_classes": [],
      "_model_module": "@jupyter-widgets/controls",
      "_model_module_version": "1.5.0",
      "_model_name": "HTMLModel",
      "_view_count": null,
      "_view_module": "@jupyter-widgets/controls",
      "_view_module_version": "1.5.0",
      "_view_name": "HTMLView",
      "description": "",
      "description_tooltip": null,
      "layout": "IPY_MODEL_4c60aae9a6624592ba878123753a0b39",
      "placeholder": "​",
      "style": "IPY_MODEL_7f87fe75a739479ab9cf2aca75ea7d98",
      "value": "<center> <img\nsrc=https://huggingface.co/front/assets/huggingface_logo-noborder.svg\nalt='Hugging Face'> <br> Copy a token from <a\nhref=\"https://huggingface.co/settings/tokens\" target=\"_blank\">your Hugging Face\ntokens page</a> and paste it below. <br> Immediately click login after copying\nyour token or it might be stored in plain text in this notebook file. </center>"
     }
    },
    "2d98f8f7104f42e18e03f518381e5caa": {
     "model_module": "@jupyter-widgets/controls",
     "model_module_version": "1.5.0",
     "model_name": "ButtonStyleModel",
     "state": {
      "_model_module": "@jupyter-widgets/controls",
      "_model_module_version": "1.5.0",
      "_model_name": "ButtonStyleModel",
      "_view_count": null,
      "_view_module": "@jupyter-widgets/base",
      "_view_module_version": "1.2.0",
      "_view_name": "StyleView",
      "button_color": null,
      "font_weight": ""
     }
    },
    "42eefe427adf4c44871bf6a118cf448a": {
     "model_module": "@jupyter-widgets/controls",
     "model_module_version": "1.5.0",
     "model_name": "DescriptionStyleModel",
     "state": {
      "_model_module": "@jupyter-widgets/controls",
      "_model_module_version": "1.5.0",
      "_model_name": "DescriptionStyleModel",
      "_view_count": null,
      "_view_module": "@jupyter-widgets/base",
      "_view_module_version": "1.2.0",
      "_view_name": "StyleView",
      "description_width": ""
     }
    },
    "449821036e114de5979ffaeca1fd0127": {
     "model_module": "@jupyter-widgets/controls",
     "model_module_version": "1.5.0",
     "model_name": "ButtonModel",
     "state": {
      "_dom_classes": [],
      "_model_module": "@jupyter-widgets/controls",
      "_model_module_version": "1.5.0",
      "_model_name": "ButtonModel",
      "_view_count": null,
      "_view_module": "@jupyter-widgets/controls",
      "_view_module_version": "1.5.0",
      "_view_name": "ButtonView",
      "button_style": "",
      "description": "Login",
      "disabled": false,
      "icon": "",
      "layout": "IPY_MODEL_cbaaf67937ea4fa19ea851d7bb46f5bc",
      "style": "IPY_MODEL_2d98f8f7104f42e18e03f518381e5caa",
      "tooltip": ""
     }
    },
    "478442f995094d7eb16cc3ea9a59b15e": {
     "model_module": "@jupyter-widgets/base",
     "model_module_version": "1.2.0",
     "model_name": "LayoutModel",
     "state": {
      "_model_module": "@jupyter-widgets/base",
      "_model_module_version": "1.2.0",
      "_model_name": "LayoutModel",
      "_view_count": null,
      "_view_module": "@jupyter-widgets/base",
      "_view_module_version": "1.2.0",
      "_view_name": "LayoutView",
      "align_content": null,
      "align_items": null,
      "align_self": null,
      "border": null,
      "bottom": null,
      "display": null,
      "flex": null,
      "flex_flow": null,
      "grid_area": null,
      "grid_auto_columns": null,
      "grid_auto_flow": null,
      "grid_auto_rows": null,
      "grid_column": null,
      "grid_gap": null,
      "grid_row": null,
      "grid_template_areas": null,
      "grid_template_columns": null,
      "grid_template_rows": null,
      "height": null,
      "justify_content": null,
      "justify_items": null,
      "left": null,
      "margin": null,
      "max_height": null,
      "max_width": null,
      "min_height": null,
      "min_width": null,
      "object_fit": null,
      "object_position": null,
      "order": null,
      "overflow": null,
      "overflow_x": null,
      "overflow_y": null,
      "padding": null,
      "right": null,
      "top": null,
      "visibility": null,
      "width": null
     }
    },
    "4c60aae9a6624592ba878123753a0b39": {
     "model_module": "@jupyter-widgets/base",
     "model_module_version": "1.2.0",
     "model_name": "LayoutModel",
     "state": {
      "_model_module": "@jupyter-widgets/base",
      "_model_module_version": "1.2.0",
      "_model_name": "LayoutModel",
      "_view_count": null,
      "_view_module": "@jupyter-widgets/base",
      "_view_module_version": "1.2.0",
      "_view_name": "LayoutView",
      "align_content": null,
      "align_items": null,
      "align_self": null,
      "border": null,
      "bottom": null,
      "display": null,
      "flex": null,
      "flex_flow": null,
      "grid_area": null,
      "grid_auto_columns": null,
      "grid_auto_flow": null,
      "grid_auto_rows": null,
      "grid_column": null,
      "grid_gap": null,
      "grid_row": null,
      "grid_template_areas": null,
      "grid_template_columns": null,
      "grid_template_rows": null,
      "height": null,
      "justify_content": null,
      "justify_items": null,
      "left": null,
      "margin": null,
      "max_height": null,
      "max_width": null,
      "min_height": null,
      "min_width": null,
      "object_fit": null,
      "object_position": null,
      "order": null,
      "overflow": null,
      "overflow_x": null,
      "overflow_y": null,
      "padding": null,
      "right": null,
      "top": null,
      "visibility": null,
      "width": null
     }
    },
    "57f8b0fc76084a5e9689916ef9f7e470": {
     "model_module": "@jupyter-widgets/controls",
     "model_module_version": "1.5.0",
     "model_name": "LabelModel",
     "state": {
      "_dom_classes": [],
      "_model_module": "@jupyter-widgets/controls",
      "_model_module_version": "1.5.0",
      "_model_name": "LabelModel",
      "_view_count": null,
      "_view_module": "@jupyter-widgets/controls",
      "_view_module_version": "1.5.0",
      "_view_name": "LabelView",
      "description": "",
      "description_tooltip": null,
      "layout": "IPY_MODEL_478442f995094d7eb16cc3ea9a59b15e",
      "placeholder": "​",
      "style": "IPY_MODEL_88179b081d194f7c82f385b5766c921a",
      "value": "Connecting..."
     }
    },
    "5f20ad87e00a4994b9921e8d6201b4b2": {
     "model_module": "@jupyter-widgets/controls",
     "model_module_version": "1.5.0",
     "model_name": "DescriptionStyleModel",
     "state": {
      "_model_module": "@jupyter-widgets/controls",
      "_model_module_version": "1.5.0",
      "_model_name": "DescriptionStyleModel",
      "_view_count": null,
      "_view_module": "@jupyter-widgets/base",
      "_view_module_version": "1.2.0",
      "_view_name": "StyleView",
      "description_width": ""
     }
    },
    "74baea975e334cfba8ce8c53f7ce392d": {
     "model_module": "@jupyter-widgets/controls",
     "model_module_version": "1.5.0",
     "model_name": "DescriptionStyleModel",
     "state": {
      "_model_module": "@jupyter-widgets/controls",
      "_model_module_version": "1.5.0",
      "_model_name": "DescriptionStyleModel",
      "_view_count": null,
      "_view_module": "@jupyter-widgets/base",
      "_view_module_version": "1.2.0",
      "_view_name": "StyleView",
      "description_width": ""
     }
    },
    "7f87fe75a739479ab9cf2aca75ea7d98": {
     "model_module": "@jupyter-widgets/controls",
     "model_module_version": "1.5.0",
     "model_name": "DescriptionStyleModel",
     "state": {
      "_model_module": "@jupyter-widgets/controls",
      "_model_module_version": "1.5.0",
      "_model_name": "DescriptionStyleModel",
      "_view_count": null,
      "_view_module": "@jupyter-widgets/base",
      "_view_module_version": "1.2.0",
      "_view_name": "StyleView",
      "description_width": ""
     }
    },
    "88179b081d194f7c82f385b5766c921a": {
     "model_module": "@jupyter-widgets/controls",
     "model_module_version": "1.5.0",
     "model_name": "DescriptionStyleModel",
     "state": {
      "_model_module": "@jupyter-widgets/controls",
      "_model_module_version": "1.5.0",
      "_model_name": "DescriptionStyleModel",
      "_view_count": null,
      "_view_module": "@jupyter-widgets/base",
      "_view_module_version": "1.2.0",
      "_view_name": "StyleView",
      "description_width": ""
     }
    },
    "adae9718d01242c2a5ff717eee5bd14b": {
     "model_module": "@jupyter-widgets/controls",
     "model_module_version": "1.5.0",
     "model_name": "HTMLModel",
     "state": {
      "_dom_classes": [],
      "_model_module": "@jupyter-widgets/controls",
      "_model_module_version": "1.5.0",
      "_model_name": "HTMLModel",
      "_view_count": null,
      "_view_module": "@jupyter-widgets/controls",
      "_view_module_version": "1.5.0",
      "_view_name": "HTMLView",
      "description": "",
      "description_tooltip": null,
      "layout": "IPY_MODEL_f13cbd8ed12346f397279ed72d4f151e",
      "placeholder": "​",
      "style": "IPY_MODEL_74baea975e334cfba8ce8c53f7ce392d",
      "value": "\n<b>Pro Tip:</b> If you don't already have one, you can create a dedicated\n'notebooks' token with 'write' access, that you can then easily reuse for all\nnotebooks. </center>"
     }
    },
    "c7960c7bcd4d4d398541687adf14b578": {
     "model_module": "@jupyter-widgets/base",
     "model_module_version": "1.2.0",
     "model_name": "LayoutModel",
     "state": {
      "_model_module": "@jupyter-widgets/base",
      "_model_module_version": "1.2.0",
      "_model_name": "LayoutModel",
      "_view_count": null,
      "_view_module": "@jupyter-widgets/base",
      "_view_module_version": "1.2.0",
      "_view_name": "LayoutView",
      "align_content": null,
      "align_items": null,
      "align_self": null,
      "border": null,
      "bottom": null,
      "display": null,
      "flex": null,
      "flex_flow": null,
      "grid_area": null,
      "grid_auto_columns": null,
      "grid_auto_flow": null,
      "grid_auto_rows": null,
      "grid_column": null,
      "grid_gap": null,
      "grid_row": null,
      "grid_template_areas": null,
      "grid_template_columns": null,
      "grid_template_rows": null,
      "height": null,
      "justify_content": null,
      "justify_items": null,
      "left": null,
      "margin": null,
      "max_height": null,
      "max_width": null,
      "min_height": null,
      "min_width": null,
      "object_fit": null,
      "object_position": null,
      "order": null,
      "overflow": null,
      "overflow_x": null,
      "overflow_y": null,
      "padding": null,
      "right": null,
      "top": null,
      "visibility": null,
      "width": null
     }
    },
    "c92cd0a6b2ef4ba49e6d40bfd96de676": {
     "model_module": "@jupyter-widgets/base",
     "model_module_version": "1.2.0",
     "model_name": "LayoutModel",
     "state": {
      "_model_module": "@jupyter-widgets/base",
      "_model_module_version": "1.2.0",
      "_model_name": "LayoutModel",
      "_view_count": null,
      "_view_module": "@jupyter-widgets/base",
      "_view_module_version": "1.2.0",
      "_view_name": "LayoutView",
      "align_content": null,
      "align_items": "center",
      "align_self": null,
      "border": null,
      "bottom": null,
      "display": "flex",
      "flex": null,
      "flex_flow": "column",
      "grid_area": null,
      "grid_auto_columns": null,
      "grid_auto_flow": null,
      "grid_auto_rows": null,
      "grid_column": null,
      "grid_gap": null,
      "grid_row": null,
      "grid_template_areas": null,
      "grid_template_columns": null,
      "grid_template_rows": null,
      "height": null,
      "justify_content": null,
      "justify_items": null,
      "left": null,
      "margin": null,
      "max_height": null,
      "max_width": null,
      "min_height": null,
      "min_width": null,
      "object_fit": null,
      "object_position": null,
      "order": null,
      "overflow": null,
      "overflow_x": null,
      "overflow_y": null,
      "padding": null,
      "right": null,
      "top": null,
      "visibility": null,
      "width": "50%"
     }
    },
    "cbaaf67937ea4fa19ea851d7bb46f5bc": {
     "model_module": "@jupyter-widgets/base",
     "model_module_version": "1.2.0",
     "model_name": "LayoutModel",
     "state": {
      "_model_module": "@jupyter-widgets/base",
      "_model_module_version": "1.2.0",
      "_model_name": "LayoutModel",
      "_view_count": null,
      "_view_module": "@jupyter-widgets/base",
      "_view_module_version": "1.2.0",
      "_view_name": "LayoutView",
      "align_content": null,
      "align_items": null,
      "align_self": null,
      "border": null,
      "bottom": null,
      "display": null,
      "flex": null,
      "flex_flow": null,
      "grid_area": null,
      "grid_auto_columns": null,
      "grid_auto_flow": null,
      "grid_auto_rows": null,
      "grid_column": null,
      "grid_gap": null,
      "grid_row": null,
      "grid_template_areas": null,
      "grid_template_columns": null,
      "grid_template_rows": null,
      "height": null,
      "justify_content": null,
      "justify_items": null,
      "left": null,
      "margin": null,
      "max_height": null,
      "max_width": null,
      "min_height": null,
      "min_width": null,
      "object_fit": null,
      "object_position": null,
      "order": null,
      "overflow": null,
      "overflow_x": null,
      "overflow_y": null,
      "padding": null,
      "right": null,
      "top": null,
      "visibility": null,
      "width": null
     }
    },
    "e2baacc420094c5795fb1e60110006e6": {
     "model_module": "@jupyter-widgets/controls",
     "model_module_version": "1.5.0",
     "model_name": "CheckboxModel",
     "state": {
      "_dom_classes": [],
      "_model_module": "@jupyter-widgets/controls",
      "_model_module_version": "1.5.0",
      "_model_name": "CheckboxModel",
      "_view_count": null,
      "_view_module": "@jupyter-widgets/controls",
      "_view_module_version": "1.5.0",
      "_view_name": "CheckboxView",
      "description": "Add token as git credential?",
      "description_tooltip": null,
      "disabled": false,
      "indent": true,
      "layout": "IPY_MODEL_f7d7932b059b41529eb2521a9639c629",
      "style": "IPY_MODEL_5f20ad87e00a4994b9921e8d6201b4b2",
      "value": true
     }
    },
    "f13cbd8ed12346f397279ed72d4f151e": {
     "model_module": "@jupyter-widgets/base",
     "model_module_version": "1.2.0",
     "model_name": "LayoutModel",
     "state": {
      "_model_module": "@jupyter-widgets/base",
      "_model_module_version": "1.2.0",
      "_model_name": "LayoutModel",
      "_view_count": null,
      "_view_module": "@jupyter-widgets/base",
      "_view_module_version": "1.2.0",
      "_view_name": "LayoutView",
      "align_content": null,
      "align_items": null,
      "align_self": null,
      "border": null,
      "bottom": null,
      "display": null,
      "flex": null,
      "flex_flow": null,
      "grid_area": null,
      "grid_auto_columns": null,
      "grid_auto_flow": null,
      "grid_auto_rows": null,
      "grid_column": null,
      "grid_gap": null,
      "grid_row": null,
      "grid_template_areas": null,
      "grid_template_columns": null,
      "grid_template_rows": null,
      "height": null,
      "justify_content": null,
      "justify_items": null,
      "left": null,
      "margin": null,
      "max_height": null,
      "max_width": null,
      "min_height": null,
      "min_width": null,
      "object_fit": null,
      "object_position": null,
      "order": null,
      "overflow": null,
      "overflow_x": null,
      "overflow_y": null,
      "padding": null,
      "right": null,
      "top": null,
      "visibility": null,
      "width": null
     }
    },
    "f7d7932b059b41529eb2521a9639c629": {
     "model_module": "@jupyter-widgets/base",
     "model_module_version": "1.2.0",
     "model_name": "LayoutModel",
     "state": {
      "_model_module": "@jupyter-widgets/base",
      "_model_module_version": "1.2.0",
      "_model_name": "LayoutModel",
      "_view_count": null,
      "_view_module": "@jupyter-widgets/base",
      "_view_module_version": "1.2.0",
      "_view_name": "LayoutView",
      "align_content": null,
      "align_items": null,
      "align_self": null,
      "border": null,
      "bottom": null,
      "display": null,
      "flex": null,
      "flex_flow": null,
      "grid_area": null,
      "grid_auto_columns": null,
      "grid_auto_flow": null,
      "grid_auto_rows": null,
      "grid_column": null,
      "grid_gap": null,
      "grid_row": null,
      "grid_template_areas": null,
      "grid_template_columns": null,
      "grid_template_rows": null,
      "height": null,
      "justify_content": null,
      "justify_items": null,
      "left": null,
      "margin": null,
      "max_height": null,
      "max_width": null,
      "min_height": null,
      "min_width": null,
      "object_fit": null,
      "object_position": null,
      "order": null,
      "overflow": null,
      "overflow_x": null,
      "overflow_y": null,
      "padding": null,
      "right": null,
      "top": null,
      "visibility": null,
      "width": null
     }
    },
    "f90789fc5d1748fd9c81983b43a26a43": {
     "model_module": "@jupyter-widgets/controls",
     "model_module_version": "1.5.0",
     "model_name": "PasswordModel",
     "state": {
      "_dom_classes": [],
      "_model_module": "@jupyter-widgets/controls",
      "_model_module_version": "1.5.0",
      "_model_name": "PasswordModel",
      "_view_count": null,
      "_view_module": "@jupyter-widgets/controls",
      "_view_module_version": "1.5.0",
      "_view_name": "PasswordView",
      "continuous_update": true,
      "description": "Token:",
      "description_tooltip": null,
      "disabled": false,
      "layout": "IPY_MODEL_c7960c7bcd4d4d398541687adf14b578",
      "placeholder": "​",
      "style": "IPY_MODEL_42eefe427adf4c44871bf6a118cf448a",
      "value": ""
     }
    },
    "f960ebb3b88849b893aab31ec19d6a18": {
     "model_module": "@jupyter-widgets/controls",
     "model_module_version": "1.5.0",
     "model_name": "VBoxModel",
     "state": {
      "_dom_classes": [],
      "_model_module": "@jupyter-widgets/controls",
      "_model_module_version": "1.5.0",
      "_model_name": "VBoxModel",
      "_view_count": null,
      "_view_module": "@jupyter-widgets/controls",
      "_view_module_version": "1.5.0",
      "_view_name": "VBoxView",
      "box_style": "",
      "children": [],
      "layout": "IPY_MODEL_c92cd0a6b2ef4ba49e6d40bfd96de676"
     }
    }
   }
  }
 },
 "nbformat": 4,
 "nbformat_minor": 0
}
